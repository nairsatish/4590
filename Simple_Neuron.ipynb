{
  "cells": [
    {
      "cell_type": "markdown",
      "metadata": {
        "id": "view-in-github",
        "colab_type": "text"
      },
      "source": [
        "<a href=\"https://colab.research.google.com/github/nairsatish/4590/blob/main/Simple_Neuron.ipynb\" target=\"_parent\"><img src=\"https://colab.research.google.com/assets/colab-badge.svg\" alt=\"Open In Colab\"/></a>"
      ]
    },
    {
      "cell_type": "code",
      "execution_count": 1,
      "metadata": {
        "colab": {
          "base_uri": "https://localhost:8080/"
        },
        "id": "_SYoB36WryhB",
        "outputId": "072283cf-6016-4f1f-ccce-d770b3d9abb7"
      },
      "outputs": [
        {
          "output_type": "stream",
          "name": "stdout",
          "text": [
            "Collecting neuron\n",
            "  Downloading NEURON-8.1.0-cp37-cp37m-manylinux_2_17_x86_64.manylinux2014_x86_64.whl (15.0 MB)\n",
            "\u001b[K     |████████████████████████████████| 15.0 MB 5.8 MB/s \n",
            "\u001b[?25hRequirement already satisfied: numpy>=1.9.3 in /usr/local/lib/python3.7/dist-packages (from neuron) (1.21.6)\n",
            "Installing collected packages: neuron\n",
            "Successfully installed neuron-8.1.0\n"
          ]
        }
      ],
      "source": [
        "!pip install neuron\n",
        "from neuron import h\n",
        "#more information can be found at: https://neuron.yale.edu/neuron/docs/scripting-neuron-basics"
      ]
    },
    {
      "cell_type": "markdown",
      "metadata": {
        "id": "qJ_f-PhdryhC"
      },
      "source": [
        "### Create Soma and Set Soma Properties"
      ]
    },
    {
      "cell_type": "code",
      "execution_count": 2,
      "metadata": {
        "id": "3zhI0acPryhD"
      },
      "outputs": [],
      "source": [
        "soma = h.Section(name='soma')\n",
        "soma.diam = 18.8 #um\n",
        "soma.L = 18.8 #um\n",
        "soma.Ra = 123 # ohm-cm\n",
        "soma.cm = 1 #uF/cm2\n",
        "#The following command inserts the Hodgkin-Huxley Na and K channels, after which //the channel variables gnabar_hh, etc. are defined......and so can be accessed.\n",
        "\n",
        "soma.insert('hh')\n",
        "soma.gnabar_hh = 0.12 #S/cm2\n",
        "soma.gkbar_hh = 0.036 #S/cm2\n",
        "soma.gl_hh = 0.0003 # S/cm2\n",
        "soma.ena = 55 #mV\n",
        "soma.ek = -77 #mv\n",
        "soma.el_hh = -54.3\n",
        "\n",
        "#creating current clamp in the middle of the soma\n",
        "iclamp = h.IClamp(soma(0.5))\n",
        "iclamp.delay = 100 # ms\n",
        "iclamp.dur = 100 # ms\n",
        "iclamp.amp = 0.2 #nA"
      ]
    },
    {
      "cell_type": "markdown",
      "metadata": {
        "id": "f-Lok-iQryhE"
      },
      "source": [
        "### Create Current Clamp and Recording Variables"
      ]
    },
    {
      "cell_type": "code",
      "execution_count": 3,
      "metadata": {
        "colab": {
          "base_uri": "https://localhost:8080/"
        },
        "id": "SvzkQAmDryhE",
        "outputId": "f771bb88-64d9-48e1-8d63-81296220ffc6"
      },
      "outputs": [
        {
          "output_type": "execute_result",
          "data": {
            "text/plain": [
              "0.0"
            ]
          },
          "metadata": {},
          "execution_count": 3
        }
      ],
      "source": [
        "from neuron.units import ms, mV\n",
        "h.load_file('stdrun.hoc')\n",
        "#recording variables\n",
        "v = h.Vector().record(soma(0.5)._ref_v)             # Membrane potential vector\n",
        "t = h.Vector().record(h._ref_t) \n",
        "\n",
        "h.load_file('stdrun.hoc')\n",
        "h.finitialize(-65 * mV)## vrest\n",
        "h.continuerun(300 * ms)## simulation time"
      ]
    },
    {
      "cell_type": "markdown",
      "metadata": {
        "id": "RAZ5Qh18ryhG"
      },
      "source": [
        "## Plot the Results"
      ]
    },
    {
      "cell_type": "code",
      "execution_count": 4,
      "metadata": {
        "colab": {
          "base_uri": "https://localhost:8080/",
          "height": 351
        },
        "id": "pzOU4EcUryhG",
        "outputId": "b8e1c73b-26a9-4a59-b5bd-f63d6d4ac2f9"
      },
      "outputs": [
        {
          "output_type": "execute_result",
          "data": {
            "text/plain": [
              "Text(0, 0.5, 'v (mV)')"
            ]
          },
          "metadata": {},
          "execution_count": 4
        },
        {
          "output_type": "display_data",
          "data": {
            "text/plain": [
              "<Figure size 720x360 with 1 Axes>"
            ],
            "image/png": "[encoded data removed]"
          },
          "metadata": {
            "needs_background": "light"
          }
        }
      ],
      "source": [
        "import matplotlib.pyplot as plt\n",
        "\n",
        "plt.figure(figsize=(10,5))\n",
        "plt.plot(t, v)\n",
        "plt.xlabel('t (ms)')\n",
        "plt.ylabel('v (mV)')"
      ]
    },
    {
      "cell_type": "code",
      "execution_count": null,
      "metadata": {
        "id": "9vuuxHwYryhG"
      },
      "outputs": [],
      "source": [
        ""
      ]
    }
  ],
  "metadata": {
    "kernelspec": {
      "display_name": "Python 3",
      "language": "python",
      "name": "python3"
    },
    "language_info": {
      "codemirror_mode": {
        "name": "ipython",
        "version": 3
      },
      "file_extension": ".py",
      "mimetype": "text/x-python",
      "name": "python",
      "nbconvert_exporter": "python",
      "pygments_lexer": "ipython3",
      "version": "3.8.3"
    },
    "colab": {
      "name": "Simple_Neuron.ipynb",
      "provenance": [],
      "include_colab_link": true
    }
  },
  "nbformat": 4,
  "nbformat_minor": 0
}