{
  "nbformat": 4,
  "nbformat_minor": 0,
  "metadata": {
    "kernelspec": {
      "display_name": "Python 3",
      "language": "python",
      "name": "python3"
    },
    "language_info": {
      "codemirror_mode": {
        "name": "ipython",
        "version": 3
      },
      "file_extension": ".py",
      "mimetype": "text/x-python",
      "name": "python",
      "nbconvert_exporter": "python",
      "pygments_lexer": "ipython3",
      "version": "3.8.10"
    },
    "colab": {
      "name": "S5_CPG.ipynb",
      "provenance": []
    }
  },
  "cells": [
    {
      "cell_type": "markdown",
      "metadata": {
        "id": "L7kWuNhqywnp"
      },
      "source": [
        "# S5 How do tetrapods decid when to walk, trot or gallop\n",
        "\n",
        "##### Adapted from a similar GENESIS tutorial (Bower and Beeman, 2007) by Henry Chen and John Ball, converted to notebook by Ziao Chen"
      ]
    },
    {
      "cell_type": "markdown",
      "metadata": {
        "id": "jkRCIQybywnv"
      },
      "source": [
        "###Install NEURON\n",
        "First install NEURON package.\n",
        "\n",
        "TO RUN CODE CLICK THE PLAY BUTTON ON EVERY CELL OR GO TO THE TOP AND CLICK RUNTIME THEN RUN ALL"
      ]
    },
    {
      "cell_type": "code",
      "metadata": {
        "colab": {
          "base_uri": "https://localhost:8080/"
        },
        "id": "-PrPZKtNywnx",
        "outputId": "eafda34d-0177-4dde-fa49-dff5fc281d2b"
      },
      "source": [
        "!pip install neuron"
      ],
      "execution_count": 1,
      "outputs": [
        {
          "output_type": "stream",
          "name": "stdout",
          "text": [
            "Collecting neuron\n",
            "  Downloading NEURON-8.0.0-cp37-cp37m-manylinux1_x86_64.whl (12.6 MB)\n",
            "\u001b[K     |████████████████████████████████| 12.6 MB 185 kB/s \n",
            "\u001b[?25hRequirement already satisfied: numpy>=1.9.3 in /usr/local/lib/python3.7/dist-packages (from neuron) (1.19.5)\n",
            "Installing collected packages: neuron\n",
            "Successfully installed neuron-8.0.0\n"
          ]
        }
      ]
    },
    {
      "cell_type": "markdown",
      "metadata": {
        "id": "WyZd6m5Gy_Gh"
      },
      "source": [
        "### Download modfiles from github"
      ]
    },
    {
      "cell_type": "code",
      "metadata": {
        "colab": {
          "base_uri": "https://localhost:8080/"
        },
        "id": "KaACiGkKzBOB",
        "outputId": "998da65b-d7f9-4c28-eb73-87c9b9997b96"
      },
      "source": [
        "import os\n",
        "from os.path import normpath, sep, join\n",
        "\n",
        "root = 'Software_Tutorials_Colab'\n",
        "folder = 'S5_CPG'\n",
        "pathlist = normpath(os.getcwd()).split(sep)\n",
        "if pathlist[-1] != folder:\n",
        "  rootidx = pathlist.index(root) if root in pathlist else -1\n",
        "  if rootidx>0:\n",
        "    os.chdir(join(sep,*pathlist[:rootidx]))\n",
        "  !git clone https://github.com/chenziao/Software_Tutorials_Colab.git\n",
        "  os.chdir(join(root,folder))\n",
        "print(os.getcwd())\n",
        "%ls"
      ],
      "execution_count": 2,
      "outputs": [
        {
          "output_type": "stream",
          "name": "stdout",
          "text": [
            "Cloning into 'Software_Tutorials_Colab'...\n",
            "remote: Enumerating objects: 49, done.\u001b[K\n",
            "remote: Counting objects: 100% (49/49), done.\u001b[K\n",
            "remote: Compressing objects: 100% (40/40), done.\u001b[K\n",
            "remote: Total 49 (delta 11), reused 40 (delta 9), pack-reused 0\u001b[K\n",
            "Unpacking objects: 100% (49/49), done.\n",
            "/content/Software_Tutorials_Colab/S5_CPG\n",
            "extsyn.mod  inhsyn.mod  k.mod  leak.mod  na.mod  S5_CPG.ipynb\n"
          ]
        }
      ]
    },
    {
      "cell_type": "markdown",
      "metadata": {
        "id": "qoXkid_-zGRd"
      },
      "source": [
        "#### Before running the simulation, you need to compile the mod files only once for the first time."
      ]
    },
    {
      "cell_type": "code",
      "metadata": {
        "scrolled": false,
        "colab": {
          "base_uri": "https://localhost:8080/"
        },
        "id": "_mwkvvdRywn2",
        "outputId": "1a836871-e602-4e12-f666-17d739679865"
      },
      "source": [
        "import os\n",
        "print(os.system('nrnivmodl')) # compile modfiles. Return 0 for success, 1 for failure."
      ],
      "execution_count": 3,
      "outputs": [
        {
          "output_type": "stream",
          "name": "stdout",
          "text": [
            "0\n"
          ]
        }
      ]
    },
    {
      "cell_type": "markdown",
      "metadata": {
        "id": "3KDQukbvywn6"
      },
      "source": [
        "### Run the codes below and answer the 10 questions at the end."
      ]
    },
    {
      "cell_type": "code",
      "metadata": {
        "scrolled": false,
        "id": "GUTODP46ywn_"
      },
      "source": [
        "import matplotlib.pyplot as plt\n",
        "import numpy as np\n",
        "from neuron import h\n",
        "h.load_file('stdrun.hoc')\n",
        "\n",
        "# Simulation parameters\n",
        "h.dt = 0.025 # time step (resolution) of the simulation in ms\n",
        "h.v_init= -72 # initial membrane potential in mV\n",
        "h.tstop = 1000 # ms\n",
        "\n",
        "# Single cell model\n",
        "class CPGCell(object):\n",
        "    def __init__(self):\n",
        "        # Create cections\n",
        "        self.soma = h.Section(name='soma', cell=self)\n",
        "        self.dend = h.Section(name='dend', cell=self)\n",
        "        # Topology\n",
        "        self.dend.connect(self.soma(1),0)\n",
        "        # Geometry\n",
        "        self.soma.L = self.soma.diam = 30 # micrometers\n",
        "        self.soma.nseg = 1\n",
        "        self.dend.L = 100 # micrometers\n",
        "        self.dend.diam = 2 # micrometers\n",
        "        self.dend.nseg = 1\n",
        "        # biophysics\n",
        "        self.soma.cm = self.dend.cm = 1 # uF/cm2\n",
        "        self.soma.Ra = self.dend.Ra = 50 # ohm-cm\n",
        "        self.soma.insert('leak'); self.soma.insert('na'); self.soma.insert('k')\n",
        "        self.soma.el_leak = -59.4; self.soma.ena = 45; self.soma.ek = -82 # mV\n",
        "        self.soma.gbar_leak = 1/10000; self.soma.gbar_na = .120; self.soma.gbar_k = .036 # S/cm2\n",
        "        self.dend.insert('leak')\n",
        "        self.dend.el_leak = -59.4; self.dend.gbar_leak = 1/10000\n",
        "        # insert IClamp\n",
        "        self.ccl = h.IClamp(self.soma(0.5))\n",
        "        \n",
        "    def set_ccl(self,amp,dur,delay):\n",
        "        self.ccl.amp = amp\n",
        "        self.ccl.dur = dur\n",
        "        self.ccl.delay = delay\n",
        "\n",
        "\n",
        "# Cell list\n",
        "NCell = 4\n",
        "Cells = []\n",
        "CName = ['L1','L2','R1','R2']\n",
        "for i in range(NCell): Cells.append(CPGCell())\n",
        "\n",
        "# Define vectors for recording variables and record\n",
        "t_vec = h.Vector()\n",
        "t_vec.record(h._ref_t);\n",
        "v_vec = []\n",
        "for cell in Cells:\n",
        "    v_vec.append(h.Vector())\n",
        "    v_vec[-1].record(cell.soma(0.5)._ref_v)"
      ],
      "execution_count": 4,
      "outputs": []
    },
    {
      "cell_type": "code",
      "metadata": {
        "scrolled": true,
        "id": "KlznmToLywoB"
      },
      "source": [
        "# Synapse default setting\n",
        "syn_wgt = 100\n",
        "syn_del = 15\n",
        "threshold = 0\n",
        "\n",
        "# Synapse connection object\n",
        "class SynapseConnect(object):\n",
        "    def __init__(self,pre_id,post_id):\n",
        "        self.pre = pre_id; self.post = post_id\n",
        "        self.extsyn = None; self.extnc = None\n",
        "        self.inhsyn = None; self.inhnc = None\n",
        "\n",
        "# Create synaptic connection\n",
        "SynCon = []\n",
        "for i in range(NCell):\n",
        "    for j in range(NCell):\n",
        "        if i!=j:\n",
        "            SynCon.append(SynapseConnect(i,j))\n",
        "            SynCon[-1].extsyn = h.ext(Cells[j].dend(0.5))\n",
        "            SynCon[-1].extnc = h.NetCon(Cells[i].soma(0.5)._ref_v,SynCon[-1].extsyn,threshold,syn_del,1,sec=Cells[i].soma)\n",
        "            SynCon[-1].extsyn.eext = 0;   SynCon[-1].extsyn.tau = 3\n",
        "            SynCon[-1].inhsyn = h.inh(Cells[j].dend(0.5))\n",
        "            SynCon[-1].inhnc = h.NetCon(Cells[i].soma(0.5)._ref_v,SynCon[-1].inhsyn,threshold,syn_del,1,sec=Cells[i].soma)\n",
        "            SynCon[-1].inhsyn.einh = -75; SynCon[-1].inhsyn.tau = 25\n",
        "\n",
        "# Set up current clamp\n",
        "def set_iclamp(ccl_config):\n",
        "    for i, cell in enumerate(Cells):\n",
        "        cell.set_ccl(*ccl_config[i])\n",
        "\n",
        "# Connect cells with synaptic weight and synaptic delay\n",
        "def connect_cells(conn_matrix,exc_wgt=syn_wgt,inh_wgt=syn_wgt,syn_delay=None):\n",
        "    for syn in SynCon:\n",
        "        syntype = conn_matrix[syn.pre,syn.post]\n",
        "        syn.extsyn.w = exc_wgt if syntype>0 else 0\n",
        "        syn.inhsyn.w = inh_wgt if syntype<0 else 0\n",
        "        if syn_delay is not None:\n",
        "            syn.extnc.delay = syn.inhnc.delay = syn_delay"
      ],
      "execution_count": 5,
      "outputs": []
    },
    {
      "cell_type": "code",
      "metadata": {
        "scrolled": false,
        "id": "hMzCLxUOywoK"
      },
      "source": [
        "# Preset patterns\n",
        "Gaits = ['Wave of Action','Walk','Trot','Pace (For you to do)']\n",
        "# Current clamp configurations of Patterns. (amp,dur,delay)\n",
        "Ccl_Config = {\n",
        "    Gaits[0]: np.array([[0.2,0,0,0],[5]*NCell,[100]*NCell]).T,\n",
        "    Gaits[1]: np.array([[0,0.2,0,0],[5]*NCell,[100]*NCell]).T,\n",
        "    Gaits[2]: np.array([[0.2]*NCell,[5]*NCell,[100,110,110,100]]).T,\n",
        "    Gaits[3]: np.array([[0.2]*NCell,[5]*NCell,[100,100,100,100]]).T\n",
        "}\n",
        "# Connection Matrix of Patterns\n",
        "Conn_Matrix = {\n",
        "    Gaits[0]: np.array([[0,1,0,0],[1,0,1,0],[0,1,0,1],[0,0,1,0]]),\n",
        "    Gaits[1]: np.array([[0,-1,-1,1],[1,0,-1,-1],[-1,1,0,-1],[-1,-1,1,0]]),\n",
        "    Gaits[2]: np.array([[0,-1,-1,1],[-1,0,1,-1],[-1,1,0,-1],[1,-1,-1,0]]),\n",
        "    Gaits[3]: np.zeros((NCell,NCell))\n",
        "}\n",
        "# Initialize\n",
        "CCL = [[0]*3 for i in range(NCell)]\n",
        "CONN = np.zeros((NCell,NCell))\n",
        "\n",
        "# Synapse Connection Graph properties\n",
        "r = 1\n",
        "pos = np.array([[-1,-1,1,1],[1,-1,1,-1]]).T*2*r\n",
        "arr = np.zeros((4,4,4))\n",
        "g = 0.05*r\n",
        "for i in range(4):\n",
        "    for j in range(4):\n",
        "        if i!=j:\n",
        "            d = pos[j]-pos[i]\n",
        "            L = np.linalg.norm(d)\n",
        "            arr[i,j,:2] = pos[i]+(r+g)/L*d+0.2*r*d[::-1]/L*[-1,1]\n",
        "            arr[i,j,2:] = (1-2*(r+g)/L)*d\n",
        "inh_style={'length_includes_head':True,'linewidth':0,'width':0.15,'head_length':0.2,'head_width':0.4,'overhang':-0.8,'color':'b'}\n",
        "ext_style={'length_includes_head':True,'linewidth':0,'width':0.15,'head_length':0.2,'head_width':0.6,'overhang':-0.1,'color':'r'}"
      ],
      "execution_count": 6,
      "outputs": []
    },
    {
      "cell_type": "code",
      "metadata": {
        "scrolled": false,
        "id": "2j4bHpu_ywoL"
      },
      "source": [
        "# Generate variable name\n",
        "def Var(varname,*index):\n",
        "    for ind in index:\n",
        "        varname += '_'+str(ind)\n",
        "    return(varname)\n",
        "\n",
        "# Create plots\n",
        "plt.ioff()\n",
        "fig = plt.figure(figsize=(15,2*NCell))\n",
        "ax = fig.add_subplot(241)\n",
        "ax2 = plt.subplot2grid((2,4),(0,1),rowspan=1,colspan=3)\n",
        "ax3 = fig.add_subplot(212)\n",
        "\n",
        "# Draw network connection\n",
        "def plot_net(**kw):\n",
        "    for i in range(NCell):\n",
        "        for j in range(NCell):\n",
        "            if i!=j: CONN[i,j] = kw[Var('syn',i,j)]\n",
        "    ax.clear()\n",
        "    ax.set_xlim(-3*r,3*r)\n",
        "    ax.set_ylim(-3.3*r,3.3*r)\n",
        "    ax.set_axis_off()\n",
        "    for i in range(4):\n",
        "        ax.add_artist(plt.Circle(pos[i],1))\n",
        "        ax.text(pos[i,0]-0.4,pos[i,1]-0.2,CName[i],fontsize=18,color='w')\n",
        "    for i in range(4):\n",
        "        for j in range(4):\n",
        "            if CONN[i,j]>0: ax.arrow(*arr[i,j,:].tolist(),**ext_style)\n",
        "            if CONN[i,j]<0: ax.arrow(*arr[i,j,:].tolist(),**inh_style)\n",
        "    display(ax.figure)\n",
        "\n",
        "# Build network\n",
        "def build_net():\n",
        "    for i in range(NCell):\n",
        "        CCL[i] = [w_ccl_amp[i].value,w_ccl_dur[i].value,w_ccl_del[i].value]\n",
        "    set_iclamp(CCL)\n",
        "    connect_cells(CONN,exc_wgt=w_exc_wgt.value,inh_wgt=w_inh_wgt.value,syn_delay=w_syn_del.value)    \n",
        "\n",
        "# Plot membran potentials\n",
        "def plot_variables(*arg):\n",
        "    build_net()\n",
        "    h.run()\n",
        "    ax2.clear()\n",
        "    for i in range(NCell):\n",
        "        ax2.plot(t_vec,v_vec[i].as_numpy()+150*(NCell-1-i))\n",
        "    ax2.set_xlim(0,h.tstop)\n",
        "    ax2.set_ylim(-100,NCell*150)\n",
        "    ax2.legend(CName,loc=2)\n",
        "    ax2.set_xlabel('Time (ms)')\n",
        "    ax2.set_ylabel('Vm (mV)')\n",
        "    plot_single()\n",
        "    with out:\n",
        "        clear_output(wait=True)\n",
        "        display(ax.figure)\n",
        "\n",
        "def plot_single(*arg):\n",
        "    ax3.clear()\n",
        "    ax3.plot(t_vec,v_vec[w_cell_tab.selected_index])\n",
        "    ax3.set_xlim(0,h.tstop)\n",
        "    ax3.set_ylim(-100,80)\n",
        "    ax3.legend([CName[w_cell_tab.selected_index]],loc=2)\n",
        "    ax3.set_xlabel('Time (ms)')\n",
        "    ax3.set_ylabel('Vm (mV)')\n",
        "    if arg:\n",
        "        with out:\n",
        "            clear_output(wait=True)\n",
        "            display(ax.figure)"
      ],
      "execution_count": 7,
      "outputs": []
    },
    {
      "cell_type": "code",
      "metadata": {
        "scrolled": false,
        "colab": {
          "base_uri": "https://localhost:8080/",
          "height": 943
        },
        "id": "IpIr8FuIywoM",
        "outputId": "3b68c400-c70e-4332-8cd2-42a9fd62d559"
      },
      "source": [
        "import ipywidgets as widgets\n",
        "from ipywidgets import interactive_output,HBox,VBox,Label,Layout\n",
        "from IPython.display import display, clear_output\n",
        "%matplotlib inline\n",
        "\n",
        "labels = ['Horse gait / Pattern:  ','Pre-synaptic cell: ','Current Clamp:','Amplitude (nA):','Duration (ms):','Delay (ms):',\n",
        "          'Synapses parameters:','Excitatory synaptic weight:','Inhibitory synaptic weight:','Synaptic delay (ms):']\n",
        "Labels = [Label(L) for L in labels]\n",
        "itemgap = Label(' ',layout=Layout(width='20px'))\n",
        "linegap = Label(' ',layout=Layout(height='10px'))\n",
        "short_textbox = Layout(width='10%')\n",
        "\n",
        "w_gait = widgets.ToggleButtons(value=Gaits[1],options=Gaits,button_style='info')\n",
        "w_exc_wgt = widgets.BoundedFloatText(value=syn_wgt,min=0,max=1e3,step=1,layout=short_textbox)\n",
        "w_inh_wgt = widgets.BoundedFloatText(value=syn_wgt,min=0,max=1e3,step=1,layout=short_textbox)\n",
        "w_syn_del = widgets.BoundedFloatText(value=syn_del,min=0,max=1e3,step=1,layout=short_textbox)\n",
        "w_ccl_amp = []\n",
        "w_ccl_dur = []\n",
        "w_ccl_del = []\n",
        "w_syncon = [[] for i in range(NCell)]\n",
        "cell_tab = []\n",
        "w_cell_tab = widgets.Tab()\n",
        "w_child_tab = [widgets.Tab() for i in range(NCell)]\n",
        "dict_arg = {}\n",
        "\n",
        "for syn in SynCon:\n",
        "    w_syncon[syn.pre].append(widgets.ToggleButtons(value=0,options=[('None',0),('Excitatory',1),('Inhibitory',-1)]))\n",
        "    w_syncon[syn.pre][-1].post = syn.post\n",
        "    dict_arg[Var('syn',syn.pre,syn.post)] = w_syncon[syn.pre][-1]\n",
        "    w_child_tab[syn.pre].set_title(len(w_syncon[syn.pre])-1,CName[syn.post])\n",
        "\n",
        "def create_tab_layout(amp,dur,delay,tab,prename):\n",
        "    line1 = VBox([Labels[2], HBox([ Labels[3],amp,itemgap,Labels[4],dur,itemgap,Labels[5],delay ]) ])\n",
        "    line2 = VBox([Labels[6], HBox([ Labels[7],w_exc_wgt,itemgap,Labels[8],w_inh_wgt,itemgap,Labels[9],w_syn_del ]) ])\n",
        "    line3 = VBox([Label('Synapse type from '+prename+' to (post-synaptic cell): '),tab])\n",
        "    return VBox([line1,linegap,line2,linegap,line3])\n",
        "\n",
        "for i in range(NCell):\n",
        "    w_ccl_amp.append(widgets.FloatText(value=0,step=0.1,layout=short_textbox))\n",
        "    w_ccl_dur.append(widgets.BoundedFloatText(value=5,min=0,max=1e3,step=1,layout=short_textbox))\n",
        "    w_ccl_del.append(widgets.BoundedFloatText(value=100,min=0,max=1e3,step=1,layout=short_textbox))\n",
        "    w_child_tab[i].children = w_syncon[i]\n",
        "    cell_tab.append( create_tab_layout(w_ccl_amp[-1],w_ccl_dur[-1],w_ccl_del[-1],w_child_tab[i],CName[i]) )\n",
        "    w_cell_tab.set_title(i,CName[i])\n",
        "w_cell_tab.children = cell_tab\n",
        "w_cell_tab.observe(plot_single,'selected_index')\n",
        "\n",
        "def set_pattern(*args):\n",
        "    gait = w_gait.value\n",
        "    C_C = Ccl_Config[gait]\n",
        "    for i in range(NCell):\n",
        "        w_ccl_amp[i].value = C_C[i,0]\n",
        "        w_ccl_dur[i].value = C_C[i,1]\n",
        "        w_ccl_del[i].value = C_C[i,2]\n",
        "    for pre, w_presyn in enumerate(w_syncon):\n",
        "        for w_syn in w_presyn:\n",
        "            w_syn.value = Conn_Matrix[gait][pre,w_syn.post]\n",
        "    w_exc_wgt.value = syn_wgt if gait!=Gaits[0] else 40; \n",
        "    w_inh_wgt.value = syn_wgt\n",
        "    w_syn_del.value = syn_del\n",
        "w_gait.observe(set_pattern,'value')\n",
        "\n",
        "run_button = widgets.Button(description='Run & Show!',icon='play-circle',button_style='success')\n",
        "run_button.on_click(plot_variables)\n",
        "\n",
        "set_pattern()\n",
        "out = interactive_output(plot_net,dict_arg)\n",
        "plot_variables()\n",
        "ui = VBox([HBox([Labels[0],itemgap,w_gait]),Labels[1],w_cell_tab,run_button,out])\n",
        "display(ui)"
      ],
      "execution_count": 8,
      "outputs": [
        {
          "output_type": "display_data",
          "data": {
            "application/vnd.jupyter.widget-view+json": {
              "model_id": "359866af77974dbfb49f853f64aa9f00",
              "version_minor": 0,
              "version_major": 2
            },
            "text/plain": [
              "VBox(children=(HBox(children=(Label(value='Horse gait / Pattern:  '), Label(value=' ', layout=Layout(width='20…"
            ]
          },
          "metadata": {}
        }
      ]
    },
    {
      "cell_type": "markdown",
      "metadata": {
        "id": "LIHnEsrCywoO"
      },
      "source": [
        "### Questions:\n",
        "1. First remove all connections and convince yourself that the firing patterns of all the four neurons are identical. Next, click on ‘Walk’, and then ‘Run & Show!’. Explain how the synaptic connections implement the walk gait. Also, explain how the signal propagates. How will you slow down the pace of walking – only explain, no plot needed for this.  \n",
        "<br>\n",
        "2. Now explain how the synaptic connections implement the “Wave of Activation”. What is the logic to speed it up or slow it down?  \n",
        "<br>  \n",
        "3. Now explain how the synaptic connections implement the “Trot” gait, in a similar manner.  \n",
        "<br>  \n",
        "4. Finally, using the ideas from above, you are to design the connections for the ‘Pace’ gait. Use a weight of 100 for all the connections you make. Explain your LOGIC clearly (important) and include a plot of connections and of the spiking patterns of all four neurons (one of the plots on the screen).  "
      ]
    }
  ]
}