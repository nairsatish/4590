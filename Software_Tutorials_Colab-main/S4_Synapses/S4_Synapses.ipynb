{
  "nbformat": 4,
  "nbformat_minor": 0,
  "metadata": {
    "kernelspec": {
      "display_name": "Python 3",
      "language": "python",
      "name": "python3"
    },
    "language_info": {
      "codemirror_mode": {
        "name": "ipython",
        "version": 3
      },
      "file_extension": ".py",
      "mimetype": "text/x-python",
      "name": "python",
      "nbconvert_exporter": "python",
      "pygments_lexer": "ipython3",
      "version": "3.8.10"
    },
    "colab": {
      "name": "S4_Synapses.ipynb",
      "provenance": []
    }
  },
  "cells": [
    {
      "cell_type": "markdown",
      "metadata": {
        "id": "dyfeD5ptwOjH"
      },
      "source": [
        "# S4 HOW DO NEURONS COMMUNICATE VIA SYNAPSES?\n",
        "##### Adapted from a similar GENESIS tutorial (Bower and Beeman, 2007) by Charlie Franklin and Henry Chen, converted to notebook by Ziao Chen and Zhenru Chen"
      ]
    },
    {
      "cell_type": "markdown",
      "metadata": {
        "id": "GGesJU_VwOjJ"
      },
      "source": [
        "### Model Features:\n",
        "The simulation explores the effects of temporal summation for multiple synaptic inputs. Figure 1 shows a schematic of the biological situation in this tutorial, as well as the model. The model is a three compartment model with two dendrite compartments and a soma (which is really more indicative of an axon or spike initiation zone). The model cell receives synaptic input from the equivalent of two pre-synaptic cells: one excitatory, one inhibitory. Each pre-synaptic cell makes a synaptic contact with both dendrite compartments. The Soma is modeled using a Hodgkin‐Huxley model for sodium and potassium channels.\n",
        "![image](https://raw.githubusercontent.com/chenziao/Software_Tutorials_Colab/main/S4_Synapses/neuron1.gif)"
      ]
    },
    {
      "cell_type": "markdown",
      "metadata": {
        "id": "JXn4CPWdwX5f"
      },
      "source": [
        "###Install NEURON\n",
        "First install NEURON package.\n",
        "\n",
        "TO RUN CODE CLICK THE PLAY BUTTON ON EVERY CELL OR GO TO THE TOP AND CLICK RUNTIME THEN RUN ALL"
      ]
    },
    {
      "cell_type": "code",
      "metadata": {
        "colab": {
          "base_uri": "https://localhost:8080/"
        },
        "id": "2BfFMFrjwOjL",
        "outputId": "2528f454-c281-493d-b46b-efc2a1d8e57d"
      },
      "source": [
        "!pip install neuron"
      ],
      "execution_count": 1,
      "outputs": [
        {
          "output_type": "stream",
          "name": "stdout",
          "text": [
            "Collecting neuron\n",
            "  Downloading NEURON-8.0.0-cp37-cp37m-manylinux1_x86_64.whl (12.6 MB)\n",
            "\u001b[K     |████████████████████████████████| 12.6 MB 223 kB/s \n",
            "\u001b[?25hRequirement already satisfied: numpy>=1.9.3 in /usr/local/lib/python3.7/dist-packages (from neuron) (1.19.5)\n",
            "Installing collected packages: neuron\n",
            "Successfully installed neuron-8.0.0\n"
          ]
        }
      ]
    },
    {
      "cell_type": "markdown",
      "metadata": {
        "id": "Ov7boT9_wbH-"
      },
      "source": [
        "### Download modfiles from github"
      ]
    },
    {
      "cell_type": "code",
      "metadata": {
        "colab": {
          "base_uri": "https://localhost:8080/"
        },
        "id": "SyHuHDqawdEa",
        "outputId": "55fe9538-eddf-488e-92ed-8427aadcf319"
      },
      "source": [
        "import os\n",
        "from os.path import normpath, sep, join\n",
        "\n",
        "root = 'Software_Tutorials_Colab'\n",
        "folder = 'S4_Synapses'\n",
        "pathlist = normpath(os.getcwd()).split(sep)\n",
        "if pathlist[-1] != folder:\n",
        "  rootidx = pathlist.index(root) if root in pathlist else -1\n",
        "  if rootidx>0:\n",
        "    os.chdir(join(sep,*pathlist[:rootidx]))\n",
        "  !git clone https://github.com/chenziao/Software_Tutorials_Colab.git\n",
        "  os.chdir(join(root,folder))\n",
        "print(os.getcwd())\n",
        "%ls"
      ],
      "execution_count": 2,
      "outputs": [
        {
          "output_type": "stream",
          "name": "stdout",
          "text": [
            "Cloning into 'Software_Tutorials_Colab'...\n",
            "remote: Enumerating objects: 49, done.\u001b[K\n",
            "remote: Counting objects: 100% (49/49), done.\u001b[K\n",
            "remote: Compressing objects: 100% (40/40), done.\u001b[K\n",
            "remote: Total 49 (delta 11), reused 40 (delta 9), pack-reused 0\u001b[K\n",
            "Unpacking objects: 100% (49/49), done.\n",
            "/content/Software_Tutorials_Colab/S4_Synapses\n",
            "alphasynapse1.mod  kalpha.mod  naalpha.mod  S4_Synapses.ipynb\n",
            "alphasynapse2.mod  leak.mod    neuron1.gif\n"
          ]
        }
      ]
    },
    {
      "cell_type": "markdown",
      "metadata": {
        "id": "URVnIOBowOjK"
      },
      "source": [
        "#### Before running the simulation, you need to compile the mod files only once for the first time."
      ]
    },
    {
      "cell_type": "code",
      "metadata": {
        "colab": {
          "base_uri": "https://localhost:8080/"
        },
        "id": "ZTMIl-dowOjM",
        "outputId": "706b7ff4-6328-403f-9993-6d19de7990c7"
      },
      "source": [
        "import os\n",
        "print(os.system('nrnivmodl')) # compile modfiles. Return 0 for success, 1 for failure."
      ],
      "execution_count": 3,
      "outputs": [
        {
          "output_type": "stream",
          "name": "stdout",
          "text": [
            "0\n"
          ]
        }
      ]
    },
    {
      "cell_type": "markdown",
      "metadata": {
        "id": "MLBM-0qRwOjN"
      },
      "source": [
        "### Run the codes below and answer the 6 questions at the end."
      ]
    },
    {
      "cell_type": "code",
      "metadata": {
        "colab": {
          "base_uri": "https://localhost:8080/"
        },
        "id": "wdgVqAEowOjO",
        "outputId": "92a9d344-87ea-42db-d4d2-df64fc8ab963"
      },
      "source": [
        "import matplotlib.pyplot as plt\n",
        "from neuron import h\n",
        "h.load_file('stdrun.hoc')\n",
        "\n",
        "h.dt = 0.1 # time step (resolution) of the simulation in ms\n",
        "h.tstop = 100 # how long to run the simulation in ms\n",
        "h.v_init= -70 # initial membrane potential in mV\n",
        "\n",
        "soma = h.Section(name='soma')\n",
        "soma.diam = 30 # micrometers\n",
        "soma.L = 30 # micrometers\n",
        "soma.cm = 1 # membrane capacitance uF/cm2\n",
        "soma.Ra = 25 # ohm-cm\n",
        "\n",
        "soma.insert('leak'); soma.insert('naalpha'); soma.insert('kalpha')\n",
        "soma.el_leak = -58.3; soma.ena = 55; soma.ek = -80 # mV\n",
        "soma.glbar_leak = 1/5000; soma.gnabar_naalpha = 0.12; soma.gkbar_kalpha = 0.036 # S/cm2\n",
        "\n",
        "dend = [h.Section(name='dend[%d]'% i) for i in range(2)]\n",
        "\n",
        "for i in range(2):\n",
        "    dend[i].L = 100 # micrometers\n",
        "    dend[i].diam = 2 # micrometers\n",
        "    dend[i].cm = 1 # membrane capacitance uF/cm2\n",
        "    dend[i].Ra = 25 # ohm-cm\n",
        "    \n",
        "    dend[i].insert('leak')\n",
        "    dend[i].el_leak = -58.3 # mV\n",
        "    dend[i].glbar_leak = 1/5000 # S/cm2\n",
        "\n",
        "dend[0].connect(soma(1),0)\n",
        "dend[1].connect(dend[0](1),0)\n",
        "h.topology()"
      ],
      "execution_count": 4,
      "outputs": [
        {
          "output_type": "stream",
          "name": "stdout",
          "text": [
            "\n",
            "|-|       soma(0-1)\n",
            "   `|       dend[0](0-1)\n",
            "     `|       dend[1](0-1)\n",
            "\n"
          ]
        },
        {
          "output_type": "execute_result",
          "data": {
            "text/plain": [
              "1.0"
            ]
          },
          "metadata": {},
          "execution_count": 4
        }
      ]
    },
    {
      "cell_type": "code",
      "metadata": {
        "id": "zqRabRtRwOjP"
      },
      "source": [
        "# Current clamp\n",
        "ccl = h.IClamp(soma(0.5))\n",
        "ccl.delay = 20 #delay in ms\n",
        "ccl.dur = 40.0 #duration in ms\n",
        "\n",
        "# Synaptic input event\n",
        "sourceA = h.NetStim()\n",
        "sourceB = h.NetStim()\n",
        "sourceA.noise = 0\n",
        "sourceB.noise = 0\n",
        "\n",
        "# Attach synapses\n",
        "Exca = h.AlphaSynapse1(dend[0](0.5))\n",
        "Inha = h.AlphaSynapse2(dend[0](0.5))\n",
        "Excb = h.AlphaSynapse1(dend[1](0.5))\n",
        "Inhb = h.AlphaSynapse2(dend[1](0.5))\n",
        "\n",
        "# Source connection to Dendrites\n",
        "ncl0 = h.NetCon(sourceA, Exca, 1, 0, 1)\n",
        "ncl1 = h.NetCon(sourceB, Inha, 1, 0, 1)\n",
        "ncl2 = h.NetCon(sourceA, Excb, 1, 0, 1)\n",
        "ncl3 = h.NetCon(sourceB, Inhb, 1, 0, 1)\n",
        "\n",
        "# Artificial for recording input\n",
        "SourceA = h.IntFire1()\n",
        "SourceB = h.IntFire1()\n",
        "SourceA.tau = 1e9\n",
        "SourceA.refrac = 0.1\n",
        "SourceA.m = 0\n",
        "SourceB.tau = 1e9\n",
        "SourceB.refrac = 0.1\n",
        "SourceB.m = 0\n",
        "tempcon1 = h.NetCon(sourceA,SourceA,.5,0,1+(1e-9))\n",
        "tempcon2 = h.NetCon(sourceB,SourceB,.5,0,1+(1e-9))\n",
        "\n",
        "# Define vectors for recording variables\n",
        "t_vec = h.Vector(); Soma_vec = h.Vector()\n",
        "Dend1_vec = h.Vector(); Dend2_vec = h.Vector()\n",
        "gna_vec = h.Vector(); gk_vec = h.Vector()\n",
        "m_vec = h.Vector(); h_vec = h.Vector(); n_vec = h.Vector()\n",
        "Exca_vec = h.Vector(); Inha_vec = h.Vector()\n",
        "Excb_vec = h.Vector(); Inhb_vec = h.Vector()\n",
        "SourceA_vec = h.Vector(); SourceB_vec = h.Vector()\n",
        "\n",
        "# Record the variables\n",
        "t_vec.record(h._ref_t); Soma_vec.record(soma(0.5)._ref_v)\n",
        "Dend1_vec.record(dend[0](0.5)._ref_v); Dend2_vec.record(dend[1](0.5)._ref_v)\n",
        "gna_vec.record(soma(0.5)._ref_gna_naalpha); gk_vec.record(soma(0.5)._ref_gk_kalpha)\n",
        "m_vec.record(soma(0.5)._ref_m_naalpha)\n",
        "h_vec.record(soma(0.5)._ref_h_naalpha)\n",
        "n_vec.record(soma(0.5)._ref_n_kalpha)\n",
        "Exca_vec.record(Exca._ref_g); Inha_vec.record(Inha._ref_g)\n",
        "Excb_vec.record(Excb._ref_g); Inhb_vec.record(Inhb._ref_g)\n",
        "SourceA_vec.record(SourceA._ref_m); SourceB_vec.record(SourceB._ref_m)\n",
        "\n",
        "def plot_variables(section):\n",
        "    fig = plt.figure(figsize=(13,8))\n",
        "    ax11 = fig.add_subplot(221); ax12 = fig.add_subplot(222)\n",
        "    ax21 = fig.add_subplot(223); ax22 = fig.add_subplot(224)\n",
        "    # Membrane potentail & channel/synapse conductance\n",
        "    if section == 'Dend1':\n",
        "        ax11.plot(t_vec,Dend1_vec,'k')\n",
        "        ax11.legend(['Dend1 Vm'],loc=1)\n",
        "        ax12.plot(t_vec,Exca_vec,'r')\n",
        "        ax12.plot(t_vec,Inha_vec,'b')\n",
        "        ax12.legend(['g_Exc','g_Inh'],title='Dend1',loc=1)\n",
        "        ax12.set_ylim(0,0.01)\n",
        "        ax12.set_ylabel('S/cm2')\n",
        "    elif section == 'Dend2':\n",
        "        ax11.plot(t_vec,Dend2_vec,'k')\n",
        "        ax11.legend(['Dend2 Vm'],loc=1)\n",
        "        ax12.plot(t_vec,Excb_vec,'r')\n",
        "        ax12.plot(t_vec,Inhb_vec,'b')\n",
        "        ax12.legend(['g_Exc','g_Inh'],title='Dend2',loc=1)\n",
        "        ax12.set_ylim(0,0.01)\n",
        "        ax12.set_ylabel('uS/cm2')\n",
        "    else:\n",
        "        ax11.plot(t_vec,Soma_vec,'k')\n",
        "        ax11.legend(['Soma Vm'],loc=1)\n",
        "        ax12.plot(t_vec,gna_vec,'r')\n",
        "        ax12.plot(t_vec,gk_vec,'b')\n",
        "        ax12.legend(['gna','gK'],title='Soma',loc=1)\n",
        "        ax12.set_ylim(0,0.05)\n",
        "        ax12.set_ylabel('S/cm2')\n",
        "    ax11.set_xlim(0,h.tstop);\n",
        "    ax11.set_ylim(-100,100)\n",
        "    ax11.set_ylabel('mV');\n",
        "    ax12.set_xlim(0,h.tstop)\n",
        "    # Soma activation and inactivation variables\n",
        "    ax21.plot(t_vec,m_vec,'r')\n",
        "    ax21.plot(t_vec,h_vec,'orange')\n",
        "    ax21.plot(t_vec,n_vec,'b')\n",
        "    ax21.legend(['m','h','n'],title='Soma',loc=1)\n",
        "    ax21.set_xlim(0,h.tstop);\n",
        "    ax21.set_ylim(-0.05,1.05)\n",
        "    ax21.set_xlabel('time (ms)')\n",
        "    ax21.set_ylabel('probability')\n",
        "    # Synaptic input\n",
        "    ax22.plot(t_vec,SourceA_vec.as_numpy()+3,'r')\n",
        "    ax22.plot(t_vec,SourceB_vec,'b')\n",
        "    ax22.legend(['Source A','Source B'],title='Synaptic input',loc=1)\n",
        "    ax22.set_xlim(0,h.tstop);\n",
        "    ax22.set_ylim(0,8)\n",
        "    ax22.set_xlabel('time (ms)')\n",
        "    plt.show()\n",
        "\n",
        "def activemodel(amp,intvlA,numA,delA,intvlB,numB,delB,WExc1,WInh1,WExc2,WInh2,section):\n",
        "    ccl.amp = amp\n",
        "    sourceA.interval = intvlA; sourceA.number = numA; sourceA.start = delA\n",
        "    sourceB.interval = intvlB; sourceB.number = numB; sourceB.start = delB\n",
        "    Exca.w = WExc1; Inha.w = WInh1\n",
        "    Excb.w = WExc2; Inhb.w = WInh2\n",
        "    \n",
        "    h.run()\n",
        "    plt.close('all')\n",
        "    plot_variables(section)"
      ],
      "execution_count": 5,
      "outputs": []
    },
    {
      "cell_type": "code",
      "metadata": {
        "scrolled": false,
        "colab": {
          "base_uri": "https://localhost:8080/",
          "height": 839
        },
        "id": "hjyBYh8LwOjU",
        "outputId": "bbc134ea-1d5e-40e7-a90f-de1db764fd98"
      },
      "source": [
        "import ipywidgets as widgets\n",
        "from ipywidgets import interactive_output,HBox,VBox,Label,Layout\n",
        "from IPython.display import display\n",
        "%matplotlib inline\n",
        "\n",
        "#default setting\n",
        "WExc1 = 0; WInh1 = 0\n",
        "WExc2 = 0; WInh2 = 0\n",
        "amp = 0.2 # amplitude in nA\n",
        "num = 5; interval = 10 # ms\n",
        "delA = 30; delB = 40 #ms\n",
        "section = 'Soma'\n",
        "\n",
        "w_reset = widgets.Button(description='Reset',icon='history',button_style='primary')\n",
        "w_sec = widgets.ToggleButtons(value=section,options=['Soma','Dend1','Dend2'],button_style='info')\n",
        "w_amp = widgets.FloatText(value=amp,step=0.1)\n",
        "w_intvlA = widgets.BoundedFloatText(value=interval,min=0,max=h.tstop,step=.1)\n",
        "w_intvlB = widgets.BoundedFloatText(value=interval,min=0,max=h.tstop,step=.1)\n",
        "w_numA = widgets.BoundedFloatText(value=num,min=0,max=1e6,step=1)\n",
        "w_numB = widgets.BoundedFloatText(value=num,min=0,max=1e6,step=1)\n",
        "w_delA = widgets.FloatText(value=delA,step=1)\n",
        "w_delB = widgets.FloatText(value=delB,step=1)\n",
        "w_WExc1 = widgets.FloatText(value=WExc1,step=.1)\n",
        "w_WInh1 = widgets.FloatText(value=WInh1,step=.1)\n",
        "w_WExc2 = widgets.FloatText(value=WExc2,step=.1)\n",
        "w_WInh2 = widgets.FloatText(value=WInh2,step=.1)\n",
        "\n",
        "def reset_default(*args):\n",
        "    w_amp.value = amp\n",
        "    w_intvlA.value = w_intvlB.value = interval\n",
        "    w_numA.value = w_numB.value = num\n",
        "    w_delA.value = delA; w_delB.value = delB\n",
        "    w_WExc1.value = WExc1; w_WInh1.value = WInh1\n",
        "    w_WExc2.value = WExc2; w_WInh2.value = WInh2\n",
        "w_reset.on_click(reset_default)\n",
        "\n",
        "labels = ['Current Clamp Amplitude (nA)','','interval (ms)','number','start (ms)','','Dendrite 1','Dendrite 2',\n",
        "          'Source A','Excitatory synaptic weight','Source B','Inhibitory synaptic weight','Choose compartment']\n",
        "Labels = [Label(L) for L in labels]\n",
        "ui = VBox([ w_reset, HBox([Labels[0],w_amp]), HBox([ VBox(Labels[1:8]),\n",
        "            VBox([Labels[8],w_intvlA,w_numA,w_delA,Labels[9],w_WExc1,w_WExc2]),\n",
        "            VBox([Labels[10],w_intvlB,w_numB,w_delB,Labels[11],w_WInh1,w_WInh2]) ],\n",
        "            layout=Layout(justify_content='space-around')), HBox([Labels[12],w_sec]) ])\n",
        "out = interactive_output(activemodel,{'amp':w_amp,\n",
        "                                      'intvlA':w_intvlA,'numA':w_numA,'delA':w_delA,'intvlB':w_intvlB,'numB':w_numB,'delB':w_delB,\n",
        "                                      'WExc1':w_WExc1,'WInh1':w_WInh1,'WExc2':w_WExc2,'WInh2':w_WInh2,'section':w_sec})\n",
        "\n",
        "display(ui,out)"
      ],
      "execution_count": 6,
      "outputs": [
        {
          "output_type": "display_data",
          "data": {
            "application/vnd.jupyter.widget-view+json": {
              "model_id": "64245473e3f24c5083b9bafcdf47cbb8",
              "version_minor": 0,
              "version_major": 2
            },
            "text/plain": [
              "VBox(children=(Button(button_style='primary', description='Reset', icon='history', style=ButtonStyle()), HBox(…"
            ]
          },
          "metadata": {}
        },
        {
          "output_type": "display_data",
          "data": {
            "application/vnd.jupyter.widget-view+json": {
              "model_id": "24715d65c86440f78d3d0817c5ae4a61",
              "version_minor": 0,
              "version_major": 2
            },
            "text/plain": [
              "Output()"
            ]
          },
          "metadata": {}
        }
      ]
    },
    {
      "cell_type": "markdown",
      "metadata": {
        "id": "fUF6vf_0wOjU"
      },
      "source": [
        "### Questions:\n",
        "1. In 20 words or less, what is the relationship between the plot of soma Vm and Dendrite 1 (dend1) Vm? (To switch to Dendrite1 Vm plot just click on Dend1 button)  \n",
        "<br>\n",
        "2. Set the Current Injection to 0. This can be done by changing the amplitude of Current clamp to 0. Leave soma injection current set to zero for all the remaining questions. You should get a lot of flat lines. Make sure you understand what you've just done.\n",
        "<br>  \n",
        "Make sure the stimulus input start time is set to 30 ms or higher (to wait till the variables are all at steady state). Set the synaptic weight for dendrite1 excitatory input to 9. Note that the \"Source A interval\" is set to 10. Study what you see. Now change the \"Source A interval\" to 3 to see what happens. Repeat this for \"Source A intervals\" of 5, 2, 1 and 0.5.\n",
        "<br>  \n",
        "In 10 words or less, what principle does the change in Dendrite1 plot indicate? (There is a two-word phrase for this). Also, show a plot for each case.  \n",
        "<br>  \n",
        "3. Make a plot of the input-output transfer function. That is, plot output rate vs input spikes rate. For the various cases, make sure that interval*number is a constant at 50 ms for parameters in the Source A.    \n",
        "<br>  \n",
        "4. Now set the \"Source A interval\" to \"2\", “Source A number” to 25, and change the synaptic weight of Dendrite1 Excitatory input to 9.  Set the synaptic weight for Dendrite1 Inhibitory input to 9. Leave everything else as it was. You should note that the inhibitory input has little effect upon the generation of action potentials.\n",
        "<br>  \n",
        "Using the \"inhibitory synaptic input for Dendrite1\", the three \"Source B\" (note: this feeds the inhibitory synapses) parameters (delay, number and interval), inhibit (suppress) the middle of the three action potentials produced by \"Source A\" input. You may not modify any \"Source A\" parameters, and both the first and last action potentials must remain. Answer the question by stating the parameter values you had to use.  Also, show a plot for every case.  \n",
        "<br>  \n",
        "5. Change the weight of inhibitory Input for Dendrite1 to 0 and set inhibitory input for Dendrite2 to 9. For this configuration, is the inhibitory synapse more or less effective at suppressing the middle action potential, compared to the one in Question 4?  Defend your answer with numbers by varying the synaptic weights (go to the first decimal level) used in this configuration and the previous one. Give reasons for the results which you see. Also, show a plot for every case.  \n",
        "<br>  \n",
        "6. Reverse the inputs. That is, place the excitatory input on Dendrite2 (leave the weight at 9) and the inhibitory input on Dendrite1. For this configuration, is the inhibitory synapse more or less effective at suppressing the middle action potential?  Defend your answer in the same manner as in QUESTION 5, and explain the differences between this situation and the previous one. Again, show a plot for every case.  "
      ]
    },
    {
      "cell_type": "code",
      "metadata": {
        "id": "F5kmaj4wwOjV"
      },
      "source": [
        ""
      ],
      "execution_count": 6,
      "outputs": []
    }
  ]
}